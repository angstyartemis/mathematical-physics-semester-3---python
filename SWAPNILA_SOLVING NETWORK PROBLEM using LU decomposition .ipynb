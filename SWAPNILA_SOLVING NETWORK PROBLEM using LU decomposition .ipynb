{
 "cells": [
  {
   "cell_type": "markdown",
   "metadata": {},
   "source": [
    "SOLVING NETWORK PROBLEM USING LU DECOMPOSITION\n",
    "\n",
    "THE EQUATIONS ARE:\n",
    "11*i1- 8*i2- 3*i3 = 15\n",
    "\n",
    "8*i1 - 23*i2 + 5 *i3 = 0\n",
    "\n",
    "3*i1 + 5*i2 - 10 *i3= 0"
   ]
  },
  {
   "cell_type": "code",
   "execution_count": 3,
   "metadata": {},
   "outputs": [],
   "source": [
    "import math\n",
    "import numpy as np\n",
    "import matplotlib.pyplot as plt"
   ]
  },
  {
   "cell_type": "code",
   "execution_count": 4,
   "metadata": {},
   "outputs": [
    {
     "name": "stdout",
     "output_type": "stream",
     "text": [
      "ENTER NUMBER OF UNKNOWNS:3\n"
     ]
    }
   ],
   "source": [
    "n = int(input('ENTER NUMBER OF UNKNOWNS:'))"
   ]
  },
  {
   "cell_type": "code",
   "execution_count": 5,
   "metadata": {},
   "outputs": [
    {
     "name": "stdout",
     "output_type": "stream",
     "text": [
      "ENTER AUGMENTED MATRIX COEFFICIENTS:\n",
      "11\n",
      "-8\n",
      "-3\n",
      "8\n",
      "-23\n",
      "5\n",
      "3\n",
      "5\n",
      "-10\n"
     ]
    }
   ],
   "source": [
    "def bsub_one(lower,col,n):\n",
    "  \n",
    "    y[0] = col[0]/lower[0][0]\n",
    "    for i in range(1,n):\n",
    "        y[i] = col[i]\n",
    "        for j in range(0,i):\n",
    "            y[i] = y[i] - lower[i][j]*y[j]\n",
    "        y[i]=y[i]/lower[i][i]\n",
    "    return y\n",
    "\n",
    "def bsub_two(upper,y,n):\n",
    "   \n",
    "   \n",
    "    x[n-1] =float(y[n-1]/upper[n-1][n-1])\n",
    "    for i in range(n-2,-1,-1):\n",
    "        x[i] = y[i]\n",
    "    \n",
    "        for j in range(i+1,n):\n",
    "            x[i] = float(x[i] - upper[i][j]*x[j])\n",
    "    \n",
    "        x[i] = float(x[i]/upper[i][i])\n",
    "    return x\n",
    "\n",
    "matrix = np.zeros((n,n))\n",
    "upper=np.zeros((n,n))\n",
    "lower=np.zeros((n,n))\n",
    "y = np.zeros(n)\n",
    "x = np.zeros(n)\n",
    "col = np.zeros(n)\n",
    "inv=np.zeros((n,n))\n",
    "print('ENTER AUGMENTED MATRIX COEFFICIENTS:')\n",
    "for i in range (n):\n",
    "    for j in range (n):\n",
    "        matrix[i][j]= float(input())\n"
   ]
  },
  {
   "cell_type": "code",
   "execution_count": 6,
   "metadata": {},
   "outputs": [
    {
     "name": "stdout",
     "output_type": "stream",
     "text": [
      "[[ 11.  -8.  -3.]\n",
      " [  8. -23.   5.]\n",
      " [  3.   5. -10.]]\n"
     ]
    }
   ],
   "source": [
    " print(matrix)"
   ]
  },
  {
   "cell_type": "code",
   "execution_count": 7,
   "metadata": {},
   "outputs": [],
   "source": [
    "for i in range(n):\n",
    "    \n",
    "    for k in range(i,n):\n",
    "        sum = 0;\n",
    "        for j in range(i):\n",
    "            sum += (lower[i][j]*upper[j][k]);\n",
    "            \n",
    "        upper[i][k] = float(matrix[i][k]- sum);\n",
    "    \n",
    "    \n",
    "    for k in range(i,n):\n",
    "        if (i== k):\n",
    "            lower[i][i] = 1;\n",
    "        else:\n",
    "            sum=0;\n",
    "            for j in range(i):\n",
    "                sum += (lower[k][j] * upper[j][i]);\n",
    "                \n",
    "            lower[k][i]= float((matrix[k][i] - sum)/ upper[i][i]);\n",
    "            "
   ]
  },
  {
   "cell_type": "code",
   "execution_count": 9,
   "metadata": {},
   "outputs": [
    {
     "name": "stdout",
     "output_type": "stream",
     "text": [
      "[[ 11.          -8.          -3.        ]\n",
      " [  0.         -17.18181818   7.18181818]\n",
      " [  0.           0.          -6.17989418]]\n"
     ]
    }
   ],
   "source": [
    "print((upper))"
   ]
  },
  {
   "cell_type": "code",
   "execution_count": 10,
   "metadata": {},
   "outputs": [
    {
     "name": "stdout",
     "output_type": "stream",
     "text": [
      "[[ 1.          0.          0.        ]\n",
      " [ 0.72727273  1.          0.        ]\n",
      " [ 0.27272727 -0.41798942  1.        ]]\n"
     ]
    }
   ],
   "source": [
    "print((lower))"
   ]
  },
  {
   "cell_type": "code",
   "execution_count": 11,
   "metadata": {},
   "outputs": [
    {
     "name": "stdout",
     "output_type": "stream",
     "text": [
      "ENTER THE COEFFICIENTS OF COLUMN ON RHS:\n",
      "15\n",
      "0\n",
      "0\n"
     ]
    }
   ],
   "source": [
    "print('ENTER THE COEFFICIENTS OF COLUMN ON RHS:')\n",
    "for i in range (n):\n",
    "    col[i]= float(input())"
   ]
  },
  {
   "cell_type": "code",
   "execution_count": 12,
   "metadata": {},
   "outputs": [],
   "source": [
    "for i in range(n):\n",
    "    \n",
    "    y1=bsub_one(lower,col,n)\n",
    "    x1=bsub_two(upper,y1,n)"
   ]
  },
  {
   "cell_type": "code",
   "execution_count": 13,
   "metadata": {},
   "outputs": [
    {
     "name": "stdout",
     "output_type": "stream",
     "text": [
      "[2.63270548 1.22003425 1.39982877]\n"
     ]
    }
   ],
   "source": [
    "print(x1)"
   ]
  },
  {
   "cell_type": "code",
   "execution_count": null,
   "metadata": {},
   "outputs": [],
   "source": []
  }
 ],
 "metadata": {
  "kernelspec": {
   "display_name": "Python 3",
   "language": "python",
   "name": "python3"
  },
  "language_info": {
   "codemirror_mode": {
    "name": "ipython",
    "version": 3
   },
   "file_extension": ".py",
   "mimetype": "text/x-python",
   "name": "python",
   "nbconvert_exporter": "python",
   "pygments_lexer": "ipython3",
   "version": "3.8.3"
  }
 },
 "nbformat": 4,
 "nbformat_minor": 4
}
