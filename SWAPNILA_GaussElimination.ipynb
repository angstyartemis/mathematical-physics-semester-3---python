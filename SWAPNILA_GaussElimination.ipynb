{
 "cells": [
  {
   "cell_type": "markdown",
   "metadata": {},
   "source": [
    "###   Gaussian elimination\n",
    "\n",
    "\n",
    "11* x- 8* y- 3* z = 15\n",
    "\n",
    "8* x  - 23* y + 5 * z = 0\n",
    "\n",
    "3* x + 5* y - 10 * z= 0"
   ]
  },
  {
   "cell_type": "code",
   "execution_count": 1,
   "metadata": {},
   "outputs": [],
   "source": [
    "import numpy as np"
   ]
  },
  {
   "cell_type": "code",
   "execution_count": 2,
   "metadata": {},
   "outputs": [
    {
     "name": "stdout",
     "output_type": "stream",
     "text": [
      "3\n"
     ]
    }
   ],
   "source": [
    "n = int(input()) #input of no. of unknowns"
   ]
  },
  {
   "cell_type": "code",
   "execution_count": 3,
   "metadata": {},
   "outputs": [],
   "source": [
    "a = np.zeros((n,n+1))"
   ]
  },
  {
   "cell_type": "code",
   "execution_count": 4,
   "metadata": {},
   "outputs": [
    {
     "name": "stdout",
     "output_type": "stream",
     "text": [
      "[[0. 0. 0. 0.]\n",
      " [0. 0. 0. 0.]\n",
      " [0. 0. 0. 0.]]\n"
     ]
    }
   ],
   "source": [
    "print(a)"
   ]
  },
  {
   "cell_type": "code",
   "execution_count": 5,
   "metadata": {},
   "outputs": [],
   "source": [
    "x = np.zeros(n)"
   ]
  },
  {
   "cell_type": "code",
   "execution_count": 6,
   "metadata": {},
   "outputs": [
    {
     "name": "stdout",
     "output_type": "stream",
     "text": [
      "[0. 0. 0.]\n"
     ]
    }
   ],
   "source": [
    "print(x)"
   ]
  },
  {
   "cell_type": "code",
   "execution_count": 7,
   "metadata": {},
   "outputs": [
    {
     "name": "stdout",
     "output_type": "stream",
     "text": [
      "Matrix Coeffecients\n",
      "11\n",
      "-8\n",
      "-3\n",
      "15\n",
      "8\n",
      "-23\n",
      "5\n",
      "0\n",
      "3\n",
      "5\n",
      "-10\n",
      "0\n"
     ]
    }
   ],
   "source": [
    "#asking the user for input\n",
    "print(\"Matrix Coeffecients\")\n",
    "for i in range(0,n):\n",
    "    for j in range(0,n+1):\n",
    "        a[i][j] = float(input())\n",
    "        "
   ]
  },
  {
   "cell_type": "code",
   "execution_count": 8,
   "metadata": {},
   "outputs": [
    {
     "name": "stdout",
     "output_type": "stream",
     "text": [
      "[[ 11.  -8.  -3.  15.]\n",
      " [  8. -23.   5.   0.]\n",
      " [  3.   5. -10.   0.]]\n"
     ]
    }
   ],
   "source": [
    "print(a)"
   ]
  },
  {
   "cell_type": "code",
   "execution_count": 9,
   "metadata": {},
   "outputs": [],
   "source": [
    "# code for pivoting \n",
    "for i in range(0,n):\n",
    "    flag = 1\n",
    "    temp = i+1\n",
    "    while(abs(a[i][i]) <= 0.001):\n",
    "        if(temp==n):\n",
    "            flag = 0\n",
    "            print(\"Matrix unsolvable.\")\n",
    "            break;\n",
    "        elif abs(a[temp][i]) > 0.001:\n",
    "            for j in range(0,n+1):\n",
    "                a[i][j], a[temp][j] =  a[temp][j], a[i][j]\n",
    "        temp+=1\n",
    "    if flag==1:\n",
    "        for j in range(i+1,n):\n",
    "            ratio = a[j][i]/a[i][i]\n",
    "        \n",
    "            for k in range(n+1):\n",
    "                a[j][k] = a[j][k] - ratio * a[i][k]\n",
    "    elif flag==0:\n",
    "        break;"
   ]
  },
  {
   "cell_type": "code",
   "execution_count": 10,
   "metadata": {},
   "outputs": [
    {
     "name": "stdout",
     "output_type": "stream",
     "text": [
      "[[ 11.          -8.          -3.          15.        ]\n",
      " [  0.         -17.18181818   7.18181818 -10.90909091]\n",
      " [  0.           0.          -6.17989418  -8.65079365]]\n"
     ]
    }
   ],
   "source": [
    "print(a)"
   ]
  },
  {
   "cell_type": "code",
   "execution_count": 11,
   "metadata": {},
   "outputs": [],
   "source": [
    "x[n-1] = a[n-1][n]/a[n-1][n-1]"
   ]
  },
  {
   "cell_type": "code",
   "execution_count": 12,
   "metadata": {},
   "outputs": [],
   "source": [
    "for i in range(n-2,-1,-1):\n",
    "    x[i] = a[i][n]\n",
    "    for j in range(i+1,n):\n",
    "        x[i]= x[i] - a[i][j]*x[j]\n",
    "    x[i] = x[i]/a[i][i]"
   ]
  },
  {
   "cell_type": "code",
   "execution_count": 13,
   "metadata": {},
   "outputs": [
    {
     "name": "stdout",
     "output_type": "stream",
     "text": [
      "[2.63270548 1.22003425 1.39982877]\n"
     ]
    }
   ],
   "source": [
    "print(x)"
   ]
  },
  {
   "cell_type": "code",
   "execution_count": null,
   "metadata": {},
   "outputs": [],
   "source": []
  }
 ],
 "metadata": {
  "kernelspec": {
   "display_name": "Python 3",
   "language": "python",
   "name": "python3"
  },
  "language_info": {
   "codemirror_mode": {
    "name": "ipython",
    "version": 3
   },
   "file_extension": ".py",
   "mimetype": "text/x-python",
   "name": "python",
   "nbconvert_exporter": "python",
   "pygments_lexer": "ipython3",
   "version": "3.8.3"
  }
 },
 "nbformat": 4,
 "nbformat_minor": 4
}
