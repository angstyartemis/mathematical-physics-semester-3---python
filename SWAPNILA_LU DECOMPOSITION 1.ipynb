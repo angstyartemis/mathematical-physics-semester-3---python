{
 "cells": [
  {
   "cell_type": "code",
   "execution_count": 1,
   "metadata": {},
   "outputs": [],
   "source": [
    "import numpy as np"
   ]
  },
  {
   "cell_type": "code",
   "execution_count": 2,
   "metadata": {},
   "outputs": [
    {
     "name": "stdout",
     "output_type": "stream",
     "text": [
      "ENTER NUMBER OF UNKNOWNS:3\n"
     ]
    }
   ],
   "source": [
    "n = int(input('ENTER NUMBER OF UNKNOWNS:'))"
   ]
  },
  {
   "cell_type": "code",
   "execution_count": 3,
   "metadata": {},
   "outputs": [],
   "source": [
    "def backsub_one(lower,col,n):\n",
    "  \n",
    "    y[0] = col[0]/lower[0][0]\n",
    "    for i in range(1,n):\n",
    "        y[i] = col[i]\n",
    "        for j in range(0,i):\n",
    "            y[i] = y[i] - lower[i][j]*y[j]\n",
    "        y[i]=y[i]/lower[i][i]\n",
    "    return y"
   ]
  },
  {
   "cell_type": "code",
   "execution_count": 4,
   "metadata": {},
   "outputs": [],
   "source": [
    "def backsub_two(upper,y,n):\n",
    "   \n",
    "   \n",
    "    x[n-1] =float(y[n-1]/upper[n-1][n-1])\n",
    "    for i in range(n-2,-1,-1):\n",
    "        x[i] = y[i]\n",
    "    \n",
    "        for j in range(i+1,n):\n",
    "            x[i] = float(x[i] - upper[i][j]*x[j])\n",
    "    \n",
    "        x[i] = float(x[i]/upper[i][i])\n",
    "    return x\n"
   ]
  },
  {
   "cell_type": "code",
   "execution_count": 5,
   "metadata": {},
   "outputs": [],
   "source": [
    "matrix = np.zeros((n,n))"
   ]
  },
  {
   "cell_type": "code",
   "execution_count": 6,
   "metadata": {},
   "outputs": [],
   "source": [
    "upper=np.zeros((n,n))\n",
    "lower=np.zeros((n,n))\n",
    "y = np.zeros(n)\n",
    "x = np.zeros(n)\n",
    "col = np.zeros(n)\n",
    "inv=np.zeros((n,n))\n"
   ]
  },
  {
   "cell_type": "code",
   "execution_count": 7,
   "metadata": {},
   "outputs": [
    {
     "name": "stdout",
     "output_type": "stream",
     "text": [
      "ENTER AUGMENTED MATRIX COEFFICIENTS:\n",
      "25\n",
      "21\n",
      "65\n",
      "12\n",
      "52\n",
      "33\n",
      "10\n",
      "14\n",
      "12\n"
     ]
    }
   ],
   "source": [
    "print('ENTER AUGMENTED MATRIX COEFFICIENTS:')\n",
    "for i in range (n):\n",
    "    for j in range (n):\n",
    "        matrix[i][j]= float(input())\n"
   ]
  },
  {
   "cell_type": "code",
   "execution_count": 8,
   "metadata": {},
   "outputs": [
    {
     "name": "stdout",
     "output_type": "stream",
     "text": [
      "[[25. 21. 65.]\n",
      " [12. 52. 33.]\n",
      " [10. 14. 12.]]\n"
     ]
    }
   ],
   "source": [
    " print(matrix)"
   ]
  },
  {
   "cell_type": "code",
   "execution_count": 9,
   "metadata": {},
   "outputs": [],
   "source": [
    "for i in range(n):\n",
    "    \n",
    "    for k in range(i,n):\n",
    "        sum = 0;\n",
    "        for j in range(i):\n",
    "            sum += (lower[i][j]*upper[j][k]);\n",
    "            \n",
    "        upper[i][k] = float(matrix[i][k]- sum);\n",
    "    \n",
    "    \n",
    "    for k in range(i,n):\n",
    "        if (i== k):\n",
    "            lower[i][i] = 1;\n",
    "        else:\n",
    "            sum=0;\n",
    "            for j in range(i):\n",
    "                sum += (lower[k][j] * upper[j][i]);\n",
    "                \n",
    "            lower[k][i]= float((matrix[k][i] - sum)/ upper[i][i]);\n",
    "            \n",
    "        "
   ]
  },
  {
   "cell_type": "code",
   "execution_count": 10,
   "metadata": {},
   "outputs": [
    {
     "name": "stdout",
     "output_type": "stream",
     "text": [
      "[[ 25.          21.          65.        ]\n",
      " [  0.          41.92         1.8       ]\n",
      " [  0.           0.         -14.24045802]]\n"
     ]
    }
   ],
   "source": [
    "print((upper))"
   ]
  },
  {
   "cell_type": "code",
   "execution_count": 11,
   "metadata": {},
   "outputs": [
    {
     "name": "stdout",
     "output_type": "stream",
     "text": [
      "[[1.         0.         0.        ]\n",
      " [0.48       1.         0.        ]\n",
      " [0.4        0.13358779 1.        ]]\n"
     ]
    }
   ],
   "source": [
    "print((lower))"
   ]
  },
  {
   "cell_type": "code",
   "execution_count": 12,
   "metadata": {},
   "outputs": [
    {
     "name": "stdout",
     "output_type": "stream",
     "text": [
      "ENTER THE COEFFICIENTS OF COLUMN ON RHS:\n",
      "74\n",
      "12\n",
      "36\n"
     ]
    }
   ],
   "source": [
    "print('ENTER THE COEFFICIENTS OF COLUMN ON RHS:')\n",
    "for i in range (n):\n",
    "    col[i]= float(input())"
   ]
  },
  {
   "cell_type": "code",
   "execution_count": 13,
   "metadata": {},
   "outputs": [],
   "source": [
    "for i in range(n):\n",
    "    \n",
    "    y1=backsub_one(lower,col,n)\n",
    "    x1=backsub_two(upper,y1,n)\n",
    "    "
   ]
  },
  {
   "cell_type": "code",
   "execution_count": 15,
   "metadata": {},
   "outputs": [
    {
     "name": "stdout",
     "output_type": "stream",
     "text": [
      "[ 5.14928973 -0.53229697 -0.67006165]\n"
     ]
    }
   ],
   "source": [
    "print(x1)"
   ]
  },
  {
   "cell_type": "code",
   "execution_count": null,
   "metadata": {},
   "outputs": [],
   "source": []
  }
 ],
 "metadata": {
  "kernelspec": {
   "display_name": "Python 3",
   "language": "python",
   "name": "python3"
  },
  "language_info": {
   "codemirror_mode": {
    "name": "ipython",
    "version": 3
   },
   "file_extension": ".py",
   "mimetype": "text/x-python",
   "name": "python",
   "nbconvert_exporter": "python",
   "pygments_lexer": "ipython3",
   "version": "3.8.3"
  }
 },
 "nbformat": 4,
 "nbformat_minor": 4
}
