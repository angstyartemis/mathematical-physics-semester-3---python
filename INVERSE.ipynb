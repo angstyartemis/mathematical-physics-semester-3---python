{
 "cells": [
  {
   "cell_type": "code",
   "execution_count": 1,
   "metadata": {},
   "outputs": [],
   "source": [
    "import numpy as np"
   ]
  },
  {
   "cell_type": "code",
   "execution_count": 2,
   "metadata": {},
   "outputs": [],
   "source": [
    "def backsub_one(lower,col,n):\n",
    "  \n",
    "    y[0] = col[0]/lower[0][0]\n",
    "    for i in range(1,n):\n",
    "        y[i] = col[i]\n",
    "        for j in range(0,i):\n",
    "            y[i] = y[i] - lower[i][j]*y[j]\n",
    "        y[i]=y[i]/lower[i][i]\n",
    "    return y"
   ]
  },
  {
   "cell_type": "code",
   "execution_count": 3,
   "metadata": {},
   "outputs": [],
   "source": [
    "def backsub_two(upper,y,n):\n",
    "   \n",
    "   \n",
    "    x[n-1] =y[n-1]/upper[n-1][n-1]\n",
    "    for i in range(n-2,-1,-1):\n",
    "        x[i] = y[i]\n",
    "    \n",
    "        for j in range(i+1,n):\n",
    "            x[i] = x[i] - upper[i][j]*x[j]\n",
    "    \n",
    "        x[i] = x[i]/upper[i][i]\n",
    "    return x"
   ]
  },
  {
   "cell_type": "code",
   "execution_count": 4,
   "metadata": {},
   "outputs": [
    {
     "name": "stdout",
     "output_type": "stream",
     "text": [
      "Enter number of unknowns: 3\n"
     ]
    }
   ],
   "source": [
    "n = int(input('Enter number of unknowns: '))"
   ]
  },
  {
   "cell_type": "code",
   "execution_count": 5,
   "metadata": {},
   "outputs": [],
   "source": [
    "mat = np.zeros((n,n))"
   ]
  },
  {
   "cell_type": "code",
   "execution_count": 6,
   "metadata": {},
   "outputs": [],
   "source": [
    "upper=np.zeros((n,n))\n",
    "lower=np.zeros((n,n))\n",
    "y = np.zeros(n)\n",
    "x = np.zeros(n)\n",
    "#col = np.zeros(n)\n",
    "ncol=np.zeros(n)\n",
    "inv=np.zeros((n,n))\n"
   ]
  },
  {
   "cell_type": "code",
   "execution_count": 7,
   "metadata": {
    "scrolled": true
   },
   "outputs": [
    {
     "name": "stdout",
     "output_type": "stream",
     "text": [
      "Enter Matrix Coefficients:\n",
      "15\n",
      "8\n",
      "25\n",
      "45\n",
      "65\n",
      "47\n",
      "27\n",
      "10\n",
      "7\n"
     ]
    }
   ],
   "source": [
    "print('Enter Matrix Coefficients:')\n",
    "for i in range(n):\n",
    "    for j in range(n):\n",
    "        mat[i][j] = float(input())#'mat['+str(i)+']['+ str(j)+']='))\n",
    "\n"
   ]
  },
  {
   "cell_type": "code",
   "execution_count": 8,
   "metadata": {},
   "outputs": [],
   "source": [
    "#print('Enter the Coefficients of Column on RHS:')\n",
    "#for i in range(n):\n",
    "#    col[i]=float(input())"
   ]
  },
  {
   "cell_type": "code",
   "execution_count": 9,
   "metadata": {},
   "outputs": [
    {
     "name": "stdout",
     "output_type": "stream",
     "text": [
      "[[15.  8. 25.]\n",
      " [45. 65. 47.]\n",
      " [27. 10.  7.]]\n"
     ]
    }
   ],
   "source": [
    "print(mat)"
   ]
  },
  {
   "cell_type": "markdown",
   "metadata": {},
   "source": []
  },
  {
   "cell_type": "code",
   "execution_count": 10,
   "metadata": {},
   "outputs": [],
   "source": [
    "for i in range(n): \n",
    "  \n",
    "        # Upper Triangular \n",
    "        for k in range(i, n):  \n",
    "  \n",
    "            # Summation of L(i, j) * U(j, k) \n",
    "            sum = 0; \n",
    "            for j in range(i): \n",
    "                sum += (lower[i][j] * upper[j][k]); \n",
    "  \n",
    "            # Evaluating U(i, k) \n",
    "            upper[i][k] = mat[i][k] - sum; \n",
    "        \n",
    "        for k in range(i, n): \n",
    "            if (i == k): \n",
    "                lower[i][i] = 1; # Diagonal as 1 \n",
    "            else: \n",
    "  \n",
    "                # Summation of L(k, j) * U(j, i) \n",
    "                sum = 0; \n",
    "                for j in range(i): \n",
    "                    sum += (lower[k][j] * upper[j][i]); \n",
    "  \n",
    "                # Evaluating L(k, i) \n",
    "                lower[k][i] = int((mat[k][i] - sum) /upper[i][i]);\n",
    "   \n",
    "  "
   ]
  },
  {
   "cell_type": "code",
   "execution_count": 11,
   "metadata": {},
   "outputs": [
    {
     "name": "stdout",
     "output_type": "stream",
     "text": [
      "[[1. 0. 0.]\n",
      " [3. 1. 0.]\n",
      " [1. 0. 1.]]\n"
     ]
    }
   ],
   "source": [
    "print((lower))"
   ]
  },
  {
   "cell_type": "code",
   "execution_count": 12,
   "metadata": {},
   "outputs": [
    {
     "name": "stdout",
     "output_type": "stream",
     "text": [
      "[[ 15.   8.  25.]\n",
      " [  0.  41. -28.]\n",
      " [  0.   0. -18.]]\n"
     ]
    }
   ],
   "source": [
    "print((upper))"
   ]
  },
  {
   "cell_type": "code",
   "execution_count": 13,
   "metadata": {},
   "outputs": [],
   "source": [
    "\n",
    "for i in range(n):\n",
    "    ncol[i]=1.0\n",
    "    y1=backsub_one(lower,ncol,n)\n",
    "    x1=backsub_two(upper,y1,n)\n",
    "    for j in range(n):\n",
    "        inv[j][i]=x1[j]\n",
    "    ncol=np.zeros(n)"
   ]
  },
  {
   "cell_type": "code",
   "execution_count": 14,
   "metadata": {},
   "outputs": [
    {
     "name": "stdout",
     "output_type": "stream",
     "text": [
      "[0. 0. 1.]\n"
     ]
    }
   ],
   "source": [
    "print (y1)"
   ]
  },
  {
   "cell_type": "code",
   "execution_count": 15,
   "metadata": {},
   "outputs": [
    {
     "name": "stdout",
     "output_type": "stream",
     "text": [
      "[ 0.11282746 -0.03794038 -0.05555556]\n"
     ]
    }
   ],
   "source": [
    "print (x1)"
   ]
  },
  {
   "cell_type": "code",
   "execution_count": 16,
   "metadata": {},
   "outputs": [
    {
     "name": "stdout",
     "output_type": "stream",
     "text": [
      "[[-0.0071364  -0.01300813  0.11282746]\n",
      " [-0.03523035  0.02439024 -0.03794038]\n",
      " [ 0.05555556 -0.         -0.05555556]]\n"
     ]
    }
   ],
   "source": [
    "print(inv)"
   ]
  },
  {
   "cell_type": "code",
   "execution_count": null,
   "metadata": {},
   "outputs": [],
   "source": []
  }
 ],
 "metadata": {
  "kernelspec": {
   "display_name": "Python 3",
   "language": "python",
   "name": "python3"
  },
  "language_info": {
   "codemirror_mode": {
    "name": "ipython",
    "version": 3
   },
   "file_extension": ".py",
   "mimetype": "text/x-python",
   "name": "python",
   "nbconvert_exporter": "python",
   "pygments_lexer": "ipython3",
   "version": "3.8.3"
  }
 },
 "nbformat": 4,
 "nbformat_minor": 2
}
