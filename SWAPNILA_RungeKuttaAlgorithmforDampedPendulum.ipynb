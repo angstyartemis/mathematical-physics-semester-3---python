{
 "cells": [
  {
   "cell_type": "markdown",
   "metadata": {},
   "source": [
    "# Damped Pendulum (RK2 method)_submission\n"
   ]
  },
  {
   "cell_type": "markdown",
   "metadata": {},
   "source": [
    "### According to Newton's Second law of motion \n",
    " \n",
    "$$\\frac{d^2\\theta}{dt^2}= -\\frac{gsin\\theta}{l}$$\n",
    "We do not assume $\\theta$ to be very small.\n",
    "So we have a natural time scale:\n",
    "$$ T= 2\\pi\\sqrt\\frac{l}{g}$$\n",
    " "
   ]
  },
  {
   "cell_type": "markdown",
   "metadata": {},
   "source": [
    "Now we define a dimensionless term $\\tau$ such that:\n",
    "$$\\tau= \\frac{t}{T}$$\n",
    "Since, $\\theta$ is already dimensionless. Hence,\n",
    "$$\\frac{d^2\\theta}{d\\tau^2}=-4\\pi^2sin\\theta$$\n",
    "Now, we define dimensionless velocity $v$ such that \n",
    "$$\\frac{d\\theta}{d\\tau}=v$$\n",
    "$$\\frac{dv}{d\\tau}=-4\\pi^2sin\\theta-bv$$\n",
    "Where the term $bv$ accounts for air drag.\n",
    "Now, to keep a check on our values, we require something which remains constant with $\\tau$. So we introduce the expression for mechanical energy\n",
    " $$ E=\\frac{ml^2}{T^2}[0.5(\\frac{d\\theta}{d\\tau})^2+4\\pi^2(1-cos\\theta)]$$"
   ]
  },
  {
   "cell_type": "markdown",
   "metadata": {},
   "source": [
    "### Coupled first order differential equations\n",
    "\n",
    "Consider the coupled equations\n",
    "\n",
    "\\begin{eqnarray}\n",
    "\\frac{dx}{dt} &=& f(x,y,t) \\\\\n",
    "\\frac{dy}{dt} &=& g(x,y,t)\n",
    "\\end{eqnarray}\n",
    "The above ideas can easily be extended. For instance\n",
    "\n",
    "\\begin{eqnarray}\n",
    "x(t+\\Delta t) & \\simeq & x(t) + \\Delta t \\ f\\left(\\ x(t+\\Delta t/2),\\ y(t+\\Delta t/2), \\ t+\\Delta t/2 \\ \\right) \\\\\n",
    "& \\simeq & x(t) + \\Delta t \\ f\\left(\\ x(t)+\\Delta t/2 \\ \\dot{x},y(t)+\\Delta t/2  \\ \\dot{y}, t+\\Delta t/2 \\ \\right) \\\\\n",
    "&=& x(t) + \\Delta t \\ f\\left(\\ x(t)+\\Delta t/2 \\ f(x,y,t), \\ y(t)+\\Delta t/2  \\ g(x,y,t),\\ t+\\Delta t/2 \\ \\right)\n",
    "\\end{eqnarray}\n",
    "Similarly\n",
    "$$ y(t+\\Delta t) \\simeq y(t) + \\Delta t \\ g\\left(\\ x(t)+\\Delta t/2 \\ f(x,y,t), \\ y(t)+\\Delta t/2  \\ g(x,y,t),\\ t+\\Delta t/2 \\ \\right) $$"
   ]
  },
  {
   "cell_type": "markdown",
   "metadata": {},
   "source": [
    "The corresponding algorithm is\n",
    "\\begin{eqnarray}\n",
    "k_1 &=& \\Delta t \\ f(x,y,t) \\\\\n",
    "q_1 &=& \\Delta t \\ g(x,y,t) \\\\\n",
    "k_2 &=& \\Delta t \\ f\\left(x+k_1/2, y+q_1/2, t+\\Delta t/2\\right) \\\\\n",
    "q_2 &=& \\Delta t \\ g\\left(x+k_1/2, y+q_1/2, t+\\Delta t/2\\right) \\\\\n",
    "x(t+\\Delta t) &=& x(t) + k_2 \\\\\n",
    "y(t+\\Delta t) &=& y(t) + q_2 \n",
    "\\end{eqnarray}"
   ]
  },
  {
   "cell_type": "markdown",
   "metadata": {},
   "source": [
    "### Example: Damped Pendulum\n",
    "\n",
    "The coupled equations are:\n",
    "\\begin{eqnarray}\n",
    "\\frac{d\\theta}{d\\tau} &=& v \\\\\n",
    "\\frac{dv}{d\\tau} &=& -4 \\pi^2 \\sin\\theta - bv\n",
    "\\end{eqnarray}\n",
    "Here, $ f(\\theta, v, \\tau) = v $ and $g(\\theta, v, \\tau) = -4 \\pi^2 \\sin\\theta - bv$"
   ]
  },
  {
   "cell_type": "code",
   "execution_count": 1,
   "metadata": {},
   "outputs": [],
   "source": [
    "import math\n",
    "import matplotlib.pyplot as plt\n",
    "%matplotlib inline"
   ]
  },
  {
   "cell_type": "code",
   "execution_count": 2,
   "metadata": {},
   "outputs": [],
   "source": [
    "def f(theta, vel, tau):\n",
    "    return vel\n",
    "\n",
    "def g(theta, vel, tau):\n",
    "    return -4.*math.pi**2 * math.sin(theta) - b*vel"
   ]
  },
  {
   "cell_type": "code",
   "execution_count": 3,
   "metadata": {},
   "outputs": [],
   "source": [
    "theta= 0.1 #INITIAL VALUE OF THETA AT T=0\n",
    "vel= 0\n",
    "b= 0.47 #coefficient of air drag\n",
    "E= 0.5*vel**2 + 4*math.pi**2*(1-math.cos(theta))\n",
    "tau= 0 #initial time instant\n",
    "tau_final= 10 #final time instant upto which calculations are to be done\n",
    "delta_tau= 0.01\n",
    "N_slices= int(tau_final/delta_tau)\n",
    "thetas= [theta]\n",
    "vels= [vel]\n",
    "Es= [E]\n",
    "taus= [tau]"
   ]
  },
  {
   "cell_type": "code",
   "execution_count": 4,
   "metadata": {},
   "outputs": [],
   "source": [
    "#implementingtheloopforrunge_kutta\n",
    "for i in range(N_slices):\n",
    "    k1 = delta_tau * f(theta, vel, tau)\n",
    "    q1 = delta_tau * g(theta, vel, tau)\n",
    "    k2 = delta_tau*f(theta+k1/2, vel+q1/2, tau+delta_tau/2)\n",
    "    q2 = delta_tau*g(theta+k1/2, vel+q1/2, tau+delta_tau/2)\n",
    "    theta += k2\n",
    "    vel += q2\n",
    "    E = 0.5*vel**2 + 4*math.pi**2*(1-math.cos(theta))\n",
    "    tau += delta_tau\n",
    "    thetas.append(theta)\n",
    "    vels.append(vel)\n",
    "    Es.append(E)\n",
    "    taus.append(tau)"
   ]
  },
  {
   "cell_type": "code",
   "execution_count": 5,
   "metadata": {},
   "outputs": [
    {
     "data": {
      "image/png": "[encoded data removed]",
      "text/plain": [
       "<Figure size 432x288 with 1 Axes>"
      ]
     },
     "metadata": {
      "needs_background": "light"
     },
     "output_type": "display_data"
    }
   ],
   "source": [
    "plt.xlabel('tau')\n",
    "plt.plot(taus, thetas, linestyle='-', color='blue', label='theta')\n",
    "plt.plot(taus, vels, linestyle='-', color='cyan', label='vel')\n",
    "plt.legend();"
   ]
  },
  {
   "cell_type": "code",
   "execution_count": 6,
   "metadata": {},
   "outputs": [
    {
     "data": {
      "image/png": "[encoded data removed]",
      "text/plain": [
       "<Figure size 432x288 with 1 Axes>"
      ]
     },
     "metadata": {
      "needs_background": "light"
     },
     "output_type": "display_data"
    }
   ],
   "source": [
    "plt.plot(taus, Es);"
   ]
  },
  {
   "cell_type": "code",
   "execution_count": null,
   "metadata": {},
   "outputs": [],
   "source": []
  }
 ],
 "metadata": {
  "kernelspec": {
   "display_name": "Python 3",
   "language": "python",
   "name": "python3"
  },
  "language_info": {
   "codemirror_mode": {
    "name": "ipython",
    "version": 3
   },
   "file_extension": ".py",
   "mimetype": "text/x-python",
   "name": "python",
   "nbconvert_exporter": "python",
   "pygments_lexer": "ipython3",
   "version": "3.8.3"
  }
 },
 "nbformat": 4,
 "nbformat_minor": 4
}
