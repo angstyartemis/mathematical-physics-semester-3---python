{
 "cells": [
  {
   "cell_type": "markdown",
   "metadata": {},
   "source": [
    "## SUBMISSION FOR MP-2\n",
    "\n",
    "Integrating the Error Function using Simpson's Integral"
   ]
  },
  {
   "cell_type": "code",
   "execution_count": 15,
   "metadata": {},
   "outputs": [],
   "source": [
    "import math\n",
    "import matplotlib.pyplot as plt\n",
    "%matplotlib inline\n",
    "\n"
   ]
  },
  {
   "cell_type": "code",
   "execution_count": 16,
   "metadata": {},
   "outputs": [],
   "source": [
    "def errorFunction(x):\n",
    "    return 2*((math.pi)**(-0.5))*math.exp(-x**2)\n"
   ]
  },
  {
   "cell_type": "code",
   "execution_count": 17,
   "metadata": {},
   "outputs": [],
   "source": [
    "a = -10\n",
    "b = 10\n",
    "M = 100\n",
    "N = 2*M\n",
    "delta = (b-a)/N\n",
    "sum_even = 0\n",
    "sum_odd = errorFunction(a+delta)\n",
    "integral =0\n",
    "X=0\n",
    "ptlist= [integral]\n",
    "xlist= [X]"
   ]
  },
  {
   "cell_type": "code",
   "execution_count": 18,
   "metadata": {},
   "outputs": [],
   "source": [
    "for i in range(1, M):\n",
    "    sum_even +=errorFunction(a + 2*i*delta)\n",
    "    sum_odd +=errorFunction(a + (2*i+1)*delta)\n",
    "    X=(2*i)*delta\n",
    "    xlist.append(X)\n",
    "    integral = (errorFunction(a) + errorFunction(b) + 4*sum_odd + 2*sum_even)*delta/3\n",
    "    ptlist.append(integral)\n"
   ]
  },
  {
   "cell_type": "code",
   "execution_count": 19,
   "metadata": {},
   "outputs": [
    {
     "data": {
      "text/plain": [
       "[<matplotlib.lines.Line2D at 0x2484ebc3790>]"
      ]
     },
     "execution_count": 19,
     "metadata": {},
     "output_type": "execute_result"
    },
    {
     "data": {
      "image/png": "[encoded data removed]",
      "text/plain": [
       "<Figure size 432x288 with 1 Axes>"
      ]
     },
     "metadata": {
      "needs_background": "light"
     },
     "output_type": "display_data"
    }
   ],
   "source": [
    "plt.xlabel('x')\n",
    "plt.ylabel('erf')\n",
    "plt.plot(xlist, ptlist)"
   ]
  },
  {
   "cell_type": "code",
   "execution_count": null,
   "metadata": {},
   "outputs": [],
   "source": []
  }
 ],
 "metadata": {
  "kernelspec": {
   "display_name": "Python 3",
   "language": "python",
   "name": "python3"
  },
  "language_info": {
   "codemirror_mode": {
    "name": "ipython",
    "version": 3
   },
   "file_extension": ".py",
   "mimetype": "text/x-python",
   "name": "python",
   "nbconvert_exporter": "python",
   "pygments_lexer": "ipython3",
   "version": "3.8.3"
  }
 },
 "nbformat": 4,
 "nbformat_minor": 4
}
